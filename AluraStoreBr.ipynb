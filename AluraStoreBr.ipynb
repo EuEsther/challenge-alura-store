{
  "nbformat": 4,
  "nbformat_minor": 0,
  "metadata": {
    "colab": {
      "provenance": []
    },
    "kernelspec": {
      "name": "python3",
      "display_name": "Python 3"
    },
    "language_info": {
      "name": "python"
    }
  },
  "cells": [
    {
      "cell_type": "markdown",
      "source": [
        "### Importação dos dados\n",
        "\n"
      ],
      "metadata": {
        "id": "RhEdWd9YUR6H"
      }
    },
    {
      "cell_type": "code",
      "execution_count": 3,
      "metadata": {
        "colab": {
          "base_uri": "https://localhost:8080/",
          "height": 310
        },
        "id": "T3EvaeQ_INIL",
        "outputId": "8969dfe6-5879-48ab-9a6b-21c5c5eea6e8"
      },
      "outputs": [
        {
          "output_type": "execute_result",
          "data": {
            "text/plain": [
              "                 Produto Categoria do Produto    Preço      Frete  \\\n",
              "0     Assistente virtual          eletronicos   219.08   9.249790   \n",
              "1         Mesa de jantar               moveis   256.35  11.234305   \n",
              "2      Jogo de tabuleiro           brinquedos   279.51  21.262681   \n",
              "3            Micro-ondas     eletrodomesticos  1009.99  54.667344   \n",
              "4  Cadeira de escritório               moveis   446.99  26.964689   \n",
              "\n",
              "  Data da Compra        Vendedor Local da compra  Avaliação da compra  \\\n",
              "0     16/01/2021     Pedro Gomes              SP                    4   \n",
              "1     18/05/2022  Beatriz Moraes              RJ                    1   \n",
              "2     15/03/2021      João Souza              DF                    1   \n",
              "3     03/05/2022      João Souza              RS                    4   \n",
              "4     07/11/2020   Larissa Alves              MG                    5   \n",
              "\n",
              "  Tipo de pagamento  Quantidade de parcelas    lat    lon    Loja  \n",
              "0    cartao_credito                       8 -22.19 -48.79  Loja 1  \n",
              "1    cartao_credito                       4 -22.25 -42.66  Loja 1  \n",
              "2    cartao_credito                       1 -15.83 -47.86  Loja 1  \n",
              "3            boleto                       1 -30.17 -53.50  Loja 1  \n",
              "4            boleto                       1 -18.10 -44.38  Loja 1  "
            ],
            "text/html": [
              "\n",
              "  <div id=\"df-9d9a8e29-ff87-4bf0-b4e7-505d17c51cb0\" class=\"colab-df-container\">\n",
              "    <div>\n",
              "<style scoped>\n",
              "    .dataframe tbody tr th:only-of-type {\n",
              "        vertical-align: middle;\n",
              "    }\n",
              "\n",
              "    .dataframe tbody tr th {\n",
              "        vertical-align: top;\n",
              "    }\n",
              "\n",
              "    .dataframe thead th {\n",
              "        text-align: right;\n",
              "    }\n",
              "</style>\n",
              "<table border=\"1\" class=\"dataframe\">\n",
              "  <thead>\n",
              "    <tr style=\"text-align: right;\">\n",
              "      <th></th>\n",
              "      <th>Produto</th>\n",
              "      <th>Categoria do Produto</th>\n",
              "      <th>Preço</th>\n",
              "      <th>Frete</th>\n",
              "      <th>Data da Compra</th>\n",
              "      <th>Vendedor</th>\n",
              "      <th>Local da compra</th>\n",
              "      <th>Avaliação da compra</th>\n",
              "      <th>Tipo de pagamento</th>\n",
              "      <th>Quantidade de parcelas</th>\n",
              "      <th>lat</th>\n",
              "      <th>lon</th>\n",
              "      <th>Loja</th>\n",
              "    </tr>\n",
              "  </thead>\n",
              "  <tbody>\n",
              "    <tr>\n",
              "      <th>0</th>\n",
              "      <td>Assistente virtual</td>\n",
              "      <td>eletronicos</td>\n",
              "      <td>219.08</td>\n",
              "      <td>9.249790</td>\n",
              "      <td>16/01/2021</td>\n",
              "      <td>Pedro Gomes</td>\n",
              "      <td>SP</td>\n",
              "      <td>4</td>\n",
              "      <td>cartao_credito</td>\n",
              "      <td>8</td>\n",
              "      <td>-22.19</td>\n",
              "      <td>-48.79</td>\n",
              "      <td>Loja 1</td>\n",
              "    </tr>\n",
              "    <tr>\n",
              "      <th>1</th>\n",
              "      <td>Mesa de jantar</td>\n",
              "      <td>moveis</td>\n",
              "      <td>256.35</td>\n",
              "      <td>11.234305</td>\n",
              "      <td>18/05/2022</td>\n",
              "      <td>Beatriz Moraes</td>\n",
              "      <td>RJ</td>\n",
              "      <td>1</td>\n",
              "      <td>cartao_credito</td>\n",
              "      <td>4</td>\n",
              "      <td>-22.25</td>\n",
              "      <td>-42.66</td>\n",
              "      <td>Loja 1</td>\n",
              "    </tr>\n",
              "    <tr>\n",
              "      <th>2</th>\n",
              "      <td>Jogo de tabuleiro</td>\n",
              "      <td>brinquedos</td>\n",
              "      <td>279.51</td>\n",
              "      <td>21.262681</td>\n",
              "      <td>15/03/2021</td>\n",
              "      <td>João Souza</td>\n",
              "      <td>DF</td>\n",
              "      <td>1</td>\n",
              "      <td>cartao_credito</td>\n",
              "      <td>1</td>\n",
              "      <td>-15.83</td>\n",
              "      <td>-47.86</td>\n",
              "      <td>Loja 1</td>\n",
              "    </tr>\n",
              "    <tr>\n",
              "      <th>3</th>\n",
              "      <td>Micro-ondas</td>\n",
              "      <td>eletrodomesticos</td>\n",
              "      <td>1009.99</td>\n",
              "      <td>54.667344</td>\n",
              "      <td>03/05/2022</td>\n",
              "      <td>João Souza</td>\n",
              "      <td>RS</td>\n",
              "      <td>4</td>\n",
              "      <td>boleto</td>\n",
              "      <td>1</td>\n",
              "      <td>-30.17</td>\n",
              "      <td>-53.50</td>\n",
              "      <td>Loja 1</td>\n",
              "    </tr>\n",
              "    <tr>\n",
              "      <th>4</th>\n",
              "      <td>Cadeira de escritório</td>\n",
              "      <td>moveis</td>\n",
              "      <td>446.99</td>\n",
              "      <td>26.964689</td>\n",
              "      <td>07/11/2020</td>\n",
              "      <td>Larissa Alves</td>\n",
              "      <td>MG</td>\n",
              "      <td>5</td>\n",
              "      <td>boleto</td>\n",
              "      <td>1</td>\n",
              "      <td>-18.10</td>\n",
              "      <td>-44.38</td>\n",
              "      <td>Loja 1</td>\n",
              "    </tr>\n",
              "  </tbody>\n",
              "</table>\n",
              "</div>\n",
              "    <div class=\"colab-df-buttons\">\n",
              "\n",
              "  <div class=\"colab-df-container\">\n",
              "    <button class=\"colab-df-convert\" onclick=\"convertToInteractive('df-9d9a8e29-ff87-4bf0-b4e7-505d17c51cb0')\"\n",
              "            title=\"Convert this dataframe to an interactive table.\"\n",
              "            style=\"display:none;\">\n",
              "\n",
              "  <svg xmlns=\"http://www.w3.org/2000/svg\" height=\"24px\" viewBox=\"0 -960 960 960\">\n",
              "    <path d=\"M120-120v-720h720v720H120Zm60-500h600v-160H180v160Zm220 220h160v-160H400v160Zm0 220h160v-160H400v160ZM180-400h160v-160H180v160Zm440 0h160v-160H620v160ZM180-180h160v-160H180v160Zm440 0h160v-160H620v160Z\"/>\n",
              "  </svg>\n",
              "    </button>\n",
              "\n",
              "  <style>\n",
              "    .colab-df-container {\n",
              "      display:flex;\n",
              "      gap: 12px;\n",
              "    }\n",
              "\n",
              "    .colab-df-convert {\n",
              "      background-color: #E8F0FE;\n",
              "      border: none;\n",
              "      border-radius: 50%;\n",
              "      cursor: pointer;\n",
              "      display: none;\n",
              "      fill: #1967D2;\n",
              "      height: 32px;\n",
              "      padding: 0 0 0 0;\n",
              "      width: 32px;\n",
              "    }\n",
              "\n",
              "    .colab-df-convert:hover {\n",
              "      background-color: #E2EBFA;\n",
              "      box-shadow: 0px 1px 2px rgba(60, 64, 67, 0.3), 0px 1px 3px 1px rgba(60, 64, 67, 0.15);\n",
              "      fill: #174EA6;\n",
              "    }\n",
              "\n",
              "    .colab-df-buttons div {\n",
              "      margin-bottom: 4px;\n",
              "    }\n",
              "\n",
              "    [theme=dark] .colab-df-convert {\n",
              "      background-color: #3B4455;\n",
              "      fill: #D2E3FC;\n",
              "    }\n",
              "\n",
              "    [theme=dark] .colab-df-convert:hover {\n",
              "      background-color: #434B5C;\n",
              "      box-shadow: 0px 1px 3px 1px rgba(0, 0, 0, 0.15);\n",
              "      filter: drop-shadow(0px 1px 2px rgba(0, 0, 0, 0.3));\n",
              "      fill: #FFFFFF;\n",
              "    }\n",
              "  </style>\n",
              "\n",
              "    <script>\n",
              "      const buttonEl =\n",
              "        document.querySelector('#df-9d9a8e29-ff87-4bf0-b4e7-505d17c51cb0 button.colab-df-convert');\n",
              "      buttonEl.style.display =\n",
              "        google.colab.kernel.accessAllowed ? 'block' : 'none';\n",
              "\n",
              "      async function convertToInteractive(key) {\n",
              "        const element = document.querySelector('#df-9d9a8e29-ff87-4bf0-b4e7-505d17c51cb0');\n",
              "        const dataTable =\n",
              "          await google.colab.kernel.invokeFunction('convertToInteractive',\n",
              "                                                    [key], {});\n",
              "        if (!dataTable) return;\n",
              "\n",
              "        const docLinkHtml = 'Like what you see? Visit the ' +\n",
              "          '<a target=\"_blank\" href=https://colab.research.google.com/notebooks/data_table.ipynb>data table notebook</a>'\n",
              "          + ' to learn more about interactive tables.';\n",
              "        element.innerHTML = '';\n",
              "        dataTable['output_type'] = 'display_data';\n",
              "        await google.colab.output.renderOutput(dataTable, element);\n",
              "        const docLink = document.createElement('div');\n",
              "        docLink.innerHTML = docLinkHtml;\n",
              "        element.appendChild(docLink);\n",
              "      }\n",
              "    </script>\n",
              "  </div>\n",
              "\n",
              "\n",
              "<div id=\"df-298fc6c5-41c6-41c2-bc67-e68120bc526d\">\n",
              "  <button class=\"colab-df-quickchart\" onclick=\"quickchart('df-298fc6c5-41c6-41c2-bc67-e68120bc526d')\"\n",
              "            title=\"Suggest charts\"\n",
              "            style=\"display:none;\">\n",
              "\n",
              "<svg xmlns=\"http://www.w3.org/2000/svg\" height=\"24px\"viewBox=\"0 0 24 24\"\n",
              "     width=\"24px\">\n",
              "    <g>\n",
              "        <path d=\"M19 3H5c-1.1 0-2 .9-2 2v14c0 1.1.9 2 2 2h14c1.1 0 2-.9 2-2V5c0-1.1-.9-2-2-2zM9 17H7v-7h2v7zm4 0h-2V7h2v10zm4 0h-2v-4h2v4z\"/>\n",
              "    </g>\n",
              "</svg>\n",
              "  </button>\n",
              "\n",
              "<style>\n",
              "  .colab-df-quickchart {\n",
              "      --bg-color: #E8F0FE;\n",
              "      --fill-color: #1967D2;\n",
              "      --hover-bg-color: #E2EBFA;\n",
              "      --hover-fill-color: #174EA6;\n",
              "      --disabled-fill-color: #AAA;\n",
              "      --disabled-bg-color: #DDD;\n",
              "  }\n",
              "\n",
              "  [theme=dark] .colab-df-quickchart {\n",
              "      --bg-color: #3B4455;\n",
              "      --fill-color: #D2E3FC;\n",
              "      --hover-bg-color: #434B5C;\n",
              "      --hover-fill-color: #FFFFFF;\n",
              "      --disabled-bg-color: #3B4455;\n",
              "      --disabled-fill-color: #666;\n",
              "  }\n",
              "\n",
              "  .colab-df-quickchart {\n",
              "    background-color: var(--bg-color);\n",
              "    border: none;\n",
              "    border-radius: 50%;\n",
              "    cursor: pointer;\n",
              "    display: none;\n",
              "    fill: var(--fill-color);\n",
              "    height: 32px;\n",
              "    padding: 0;\n",
              "    width: 32px;\n",
              "  }\n",
              "\n",
              "  .colab-df-quickchart:hover {\n",
              "    background-color: var(--hover-bg-color);\n",
              "    box-shadow: 0 1px 2px rgba(60, 64, 67, 0.3), 0 1px 3px 1px rgba(60, 64, 67, 0.15);\n",
              "    fill: var(--button-hover-fill-color);\n",
              "  }\n",
              "\n",
              "  .colab-df-quickchart-complete:disabled,\n",
              "  .colab-df-quickchart-complete:disabled:hover {\n",
              "    background-color: var(--disabled-bg-color);\n",
              "    fill: var(--disabled-fill-color);\n",
              "    box-shadow: none;\n",
              "  }\n",
              "\n",
              "  .colab-df-spinner {\n",
              "    border: 2px solid var(--fill-color);\n",
              "    border-color: transparent;\n",
              "    border-bottom-color: var(--fill-color);\n",
              "    animation:\n",
              "      spin 1s steps(1) infinite;\n",
              "  }\n",
              "\n",
              "  @keyframes spin {\n",
              "    0% {\n",
              "      border-color: transparent;\n",
              "      border-bottom-color: var(--fill-color);\n",
              "      border-left-color: var(--fill-color);\n",
              "    }\n",
              "    20% {\n",
              "      border-color: transparent;\n",
              "      border-left-color: var(--fill-color);\n",
              "      border-top-color: var(--fill-color);\n",
              "    }\n",
              "    30% {\n",
              "      border-color: transparent;\n",
              "      border-left-color: var(--fill-color);\n",
              "      border-top-color: var(--fill-color);\n",
              "      border-right-color: var(--fill-color);\n",
              "    }\n",
              "    40% {\n",
              "      border-color: transparent;\n",
              "      border-right-color: var(--fill-color);\n",
              "      border-top-color: var(--fill-color);\n",
              "    }\n",
              "    60% {\n",
              "      border-color: transparent;\n",
              "      border-right-color: var(--fill-color);\n",
              "    }\n",
              "    80% {\n",
              "      border-color: transparent;\n",
              "      border-right-color: var(--fill-color);\n",
              "      border-bottom-color: var(--fill-color);\n",
              "    }\n",
              "    90% {\n",
              "      border-color: transparent;\n",
              "      border-bottom-color: var(--fill-color);\n",
              "    }\n",
              "  }\n",
              "</style>\n",
              "\n",
              "  <script>\n",
              "    async function quickchart(key) {\n",
              "      const quickchartButtonEl =\n",
              "        document.querySelector('#' + key + ' button');\n",
              "      quickchartButtonEl.disabled = true;  // To prevent multiple clicks.\n",
              "      quickchartButtonEl.classList.add('colab-df-spinner');\n",
              "      try {\n",
              "        const charts = await google.colab.kernel.invokeFunction(\n",
              "            'suggestCharts', [key], {});\n",
              "      } catch (error) {\n",
              "        console.error('Error during call to suggestCharts:', error);\n",
              "      }\n",
              "      quickchartButtonEl.classList.remove('colab-df-spinner');\n",
              "      quickchartButtonEl.classList.add('colab-df-quickchart-complete');\n",
              "    }\n",
              "    (() => {\n",
              "      let quickchartButtonEl =\n",
              "        document.querySelector('#df-298fc6c5-41c6-41c2-bc67-e68120bc526d button');\n",
              "      quickchartButtonEl.style.display =\n",
              "        google.colab.kernel.accessAllowed ? 'block' : 'none';\n",
              "    })();\n",
              "  </script>\n",
              "</div>\n",
              "\n",
              "    </div>\n",
              "  </div>\n"
            ],
            "application/vnd.google.colaboratory.intrinsic+json": {
              "type": "dataframe",
              "variable_name": "dados_completo",
              "summary": "{\n  \"name\": \"dados_completo\",\n  \"rows\": 9435,\n  \"fields\": [\n    {\n      \"column\": \"Produto\",\n      \"properties\": {\n        \"dtype\": \"category\",\n        \"num_unique_values\": 51,\n        \"samples\": [\n          \"Viol\\u00e3o\",\n          \"Bola de basquete\",\n          \"Smartwatch\"\n        ],\n        \"semantic_type\": \"\",\n        \"description\": \"\"\n      }\n    },\n    {\n      \"column\": \"Categoria do Produto\",\n      \"properties\": {\n        \"dtype\": \"category\",\n        \"num_unique_values\": 8,\n        \"samples\": [\n          \"moveis\",\n          \"esporte e lazer\",\n          \"eletronicos\"\n        ],\n        \"semantic_type\": \"\",\n        \"description\": \"\"\n      }\n    },\n    {\n      \"column\": \"Pre\\u00e7o\",\n      \"properties\": {\n        \"dtype\": \"number\",\n        \"std\": 787.0945075672901,\n        \"min\": 10.07,\n        \"max\": 3969.38,\n        \"num_unique_values\": 8800,\n        \"samples\": [\n          963.53,\n          40.8,\n          3168.26\n        ],\n        \"semantic_type\": \"\",\n        \"description\": \"\"\n      }\n    },\n    {\n      \"column\": \"Frete\",\n      \"properties\": {\n        \"dtype\": \"number\",\n        \"std\": 41.97371057943037,\n        \"min\": 0.0,\n        \"max\": 216.7076333964,\n        \"num_unique_values\": 8515,\n        \"samples\": [\n          17.7140610777,\n          7.1379912424,\n          30.3324656401\n        ],\n        \"semantic_type\": \"\",\n        \"description\": \"\"\n      }\n    },\n    {\n      \"column\": \"Data da Compra\",\n      \"properties\": {\n        \"dtype\": \"date\",\n        \"min\": \"01/01/2020\",\n        \"max\": \"31/12/2022\",\n        \"num_unique_values\": 1185,\n        \"samples\": [\n          \"15/04/2021\",\n          \"28/08/2021\",\n          \"17/05/2022\"\n        ],\n        \"semantic_type\": \"\",\n        \"description\": \"\"\n      }\n    },\n    {\n      \"column\": \"Vendedor\",\n      \"properties\": {\n        \"dtype\": \"category\",\n        \"num_unique_values\": 14,\n        \"samples\": [\n          \"Juliana Costa\",\n          \"Mariana Ferreira\",\n          \"Pedro Gomes\"\n        ],\n        \"semantic_type\": \"\",\n        \"description\": \"\"\n      }\n    },\n    {\n      \"column\": \"Local da compra\",\n      \"properties\": {\n        \"dtype\": \"category\",\n        \"num_unique_values\": 27,\n        \"samples\": [\n          \"TO\",\n          \"PI\",\n          \"PR\"\n        ],\n        \"semantic_type\": \"\",\n        \"description\": \"\"\n      }\n    },\n    {\n      \"column\": \"Avalia\\u00e7\\u00e3o da compra\",\n      \"properties\": {\n        \"dtype\": \"number\",\n        \"std\": 1,\n        \"min\": 1,\n        \"max\": 5,\n        \"num_unique_values\": 5,\n        \"samples\": [\n          1,\n          2,\n          5\n        ],\n        \"semantic_type\": \"\",\n        \"description\": \"\"\n      }\n    },\n    {\n      \"column\": \"Tipo de pagamento\",\n      \"properties\": {\n        \"dtype\": \"category\",\n        \"num_unique_values\": 4,\n        \"samples\": [\n          \"boleto\",\n          \"cartao_debito\",\n          \"cartao_credito\"\n        ],\n        \"semantic_type\": \"\",\n        \"description\": \"\"\n      }\n    },\n    {\n      \"column\": \"Quantidade de parcelas\",\n      \"properties\": {\n        \"dtype\": \"number\",\n        \"std\": 2,\n        \"min\": 1,\n        \"max\": 24,\n        \"num_unique_values\": 19,\n        \"samples\": [\n          8,\n          2,\n          14\n        ],\n        \"semantic_type\": \"\",\n        \"description\": \"\"\n      }\n    },\n    {\n      \"column\": \"lat\",\n      \"properties\": {\n        \"dtype\": \"number\",\n        \"std\": 5.399153200420811,\n        \"min\": -30.17,\n        \"max\": 1.99,\n        \"num_unique_values\": 27,\n        \"samples\": [\n          -9.46,\n          -6.6,\n          -24.89\n        ],\n        \"semantic_type\": \"\",\n        \"description\": \"\"\n      }\n    },\n    {\n      \"column\": \"lon\",\n      \"properties\": {\n        \"dtype\": \"number\",\n        \"std\": 4.1778870458167106,\n        \"min\": -70.55,\n        \"max\": -36.59,\n        \"num_unique_values\": 27,\n        \"samples\": [\n          -48.26,\n          -42.28,\n          -51.55\n        ],\n        \"semantic_type\": \"\",\n        \"description\": \"\"\n      }\n    },\n    {\n      \"column\": \"Loja\",\n      \"properties\": {\n        \"dtype\": \"category\",\n        \"num_unique_values\": 4,\n        \"samples\": [\n          \"Loja 2\",\n          \"Loja 4\",\n          \"Loja 1\"\n        ],\n        \"semantic_type\": \"\",\n        \"description\": \"\"\n      }\n    }\n  ]\n}"
            }
          },
          "metadata": {},
          "execution_count": 3
        }
      ],
      "source": [
        "import pandas as pd\n",
        "import matplotlib.pyplot as plt\n",
        "\n",
        "url = \"https://raw.githubusercontent.com/alura-es-cursos/challenge1-data-science/refs/heads/main/base-de-dados-challenge-1/loja_1.csv\"\n",
        "url2 = \"https://raw.githubusercontent.com/alura-es-cursos/challenge1-data-science/refs/heads/main/base-de-dados-challenge-1/loja_2.csv\"\n",
        "url3 = \"https://raw.githubusercontent.com/alura-es-cursos/challenge1-data-science/refs/heads/main/base-de-dados-challenge-1/loja_3.csv\"\n",
        "url4 = \"https://raw.githubusercontent.com/alura-es-cursos/challenge1-data-science/refs/heads/main/base-de-dados-challenge-1/loja_4.csv\"\n",
        "\n",
        "loja = pd.read_csv(url)\n",
        "loja2 = pd.read_csv(url2)\n",
        "loja3 = pd.read_csv(url3)\n",
        "loja4 = pd.read_csv(url4)\n",
        "\n",
        "loja['Loja'] = 'Loja 1'\n",
        "loja2['Loja'] = 'Loja 2'\n",
        "loja3['Loja'] = 'Loja 3'\n",
        "loja4['Loja'] = 'Loja 4'\n",
        "\n",
        "dados_completo = pd.concat([loja, loja2, loja3, loja4])\n",
        "dados_completo.head()"
      ]
    },
    {
      "cell_type": "markdown",
      "source": [
        "#1. Análise do faturamento\n"
      ],
      "metadata": {
        "id": "X62IW3KFUIYm"
      }
    },
    {
      "cell_type": "code",
      "source": [
        "faturamento_por_loja = dados_completo.groupby('Loja')['Preço'].sum()"
      ],
      "metadata": {
        "id": "xykobSftV64I"
      },
      "execution_count": 4,
      "outputs": []
    },
    {
      "cell_type": "code",
      "source": [
        "(faturamento_por_loja.to_frame('Faturamento')\n",
        " .style\n",
        " .format('R${:,.2f}')\n",
        " .set_caption('Faturamento Total por Loja'))"
      ],
      "metadata": {
        "id": "KDyr8E71V3m-",
        "colab": {
          "base_uri": "https://localhost:8080/",
          "height": 224
        },
        "outputId": "8202b7e2-97b4-43ef-d55e-281d1b2a8ace"
      },
      "execution_count": 5,
      "outputs": [
        {
          "output_type": "execute_result",
          "data": {
            "text/plain": [
              "<pandas.io.formats.style.Styler at 0x7fe208599ed0>"
            ],
            "text/html": [
              "<style type=\"text/css\">\n",
              "</style>\n",
              "<table id=\"T_926ad\" class=\"dataframe\">\n",
              "  <caption>Faturamento Total por Loja</caption>\n",
              "  <thead>\n",
              "    <tr>\n",
              "      <th class=\"blank level0\" >&nbsp;</th>\n",
              "      <th id=\"T_926ad_level0_col0\" class=\"col_heading level0 col0\" >Faturamento</th>\n",
              "    </tr>\n",
              "    <tr>\n",
              "      <th class=\"index_name level0\" >Loja</th>\n",
              "      <th class=\"blank col0\" >&nbsp;</th>\n",
              "    </tr>\n",
              "  </thead>\n",
              "  <tbody>\n",
              "    <tr>\n",
              "      <th id=\"T_926ad_level0_row0\" class=\"row_heading level0 row0\" >Loja 1</th>\n",
              "      <td id=\"T_926ad_row0_col0\" class=\"data row0 col0\" >R$1,534,509.12</td>\n",
              "    </tr>\n",
              "    <tr>\n",
              "      <th id=\"T_926ad_level0_row1\" class=\"row_heading level0 row1\" >Loja 2</th>\n",
              "      <td id=\"T_926ad_row1_col0\" class=\"data row1 col0\" >R$1,488,459.06</td>\n",
              "    </tr>\n",
              "    <tr>\n",
              "      <th id=\"T_926ad_level0_row2\" class=\"row_heading level0 row2\" >Loja 3</th>\n",
              "      <td id=\"T_926ad_row2_col0\" class=\"data row2 col0\" >R$1,464,025.03</td>\n",
              "    </tr>\n",
              "    <tr>\n",
              "      <th id=\"T_926ad_level0_row3\" class=\"row_heading level0 row3\" >Loja 4</th>\n",
              "      <td id=\"T_926ad_row3_col0\" class=\"data row3 col0\" >R$1,384,497.58</td>\n",
              "    </tr>\n",
              "  </tbody>\n",
              "</table>\n"
            ]
          },
          "metadata": {},
          "execution_count": 5
        }
      ]
    },
    {
      "cell_type": "markdown",
      "source": [
        "# 2. Vendas por Categoria\n"
      ],
      "metadata": {
        "id": "2V_vcAPzWZmR"
      }
    },
    {
      "cell_type": "code",
      "source": [
        "vendas_por_categoria = dados_completo.groupby(['Loja', 'Categoria do Produto']).size().unstack()\n",
        "vendas_por_categoria = vendas_por_categoria[vendas_por_categoria.sum().sort_values(ascending=False).index]"
      ],
      "metadata": {
        "id": "A34YupIuYhfF"
      },
      "execution_count": 22,
      "outputs": []
    },
    {
      "cell_type": "code",
      "source": [
        "(vendas_por_categoria.T\n",
        " .style\n",
        " .set_caption('Vendas por Loja (Ordenadas por Categoria)')\n",
        ")"
      ],
      "metadata": {
        "id": "yZR6cOjXYSk1",
        "colab": {
          "base_uri": "https://localhost:8080/",
          "height": 349
        },
        "outputId": "8edcc09f-db73-41ca-cf66-9e9441af73aa"
      },
      "execution_count": 23,
      "outputs": [
        {
          "output_type": "execute_result",
          "data": {
            "text/plain": [
              "<pandas.io.formats.style.Styler at 0x7fe2080df1d0>"
            ],
            "text/html": [
              "<style type=\"text/css\">\n",
              "</style>\n",
              "<table id=\"T_9664b\" class=\"dataframe\">\n",
              "  <caption>Vendas por Loja (Ordenadas por Categoria)</caption>\n",
              "  <thead>\n",
              "    <tr>\n",
              "      <th class=\"index_name level0\" >Loja</th>\n",
              "      <th id=\"T_9664b_level0_col0\" class=\"col_heading level0 col0\" >Loja 1</th>\n",
              "      <th id=\"T_9664b_level0_col1\" class=\"col_heading level0 col1\" >Loja 2</th>\n",
              "      <th id=\"T_9664b_level0_col2\" class=\"col_heading level0 col2\" >Loja 3</th>\n",
              "      <th id=\"T_9664b_level0_col3\" class=\"col_heading level0 col3\" >Loja 4</th>\n",
              "    </tr>\n",
              "    <tr>\n",
              "      <th class=\"index_name level0\" >Categoria do Produto</th>\n",
              "      <th class=\"blank col0\" >&nbsp;</th>\n",
              "      <th class=\"blank col1\" >&nbsp;</th>\n",
              "      <th class=\"blank col2\" >&nbsp;</th>\n",
              "      <th class=\"blank col3\" >&nbsp;</th>\n",
              "    </tr>\n",
              "  </thead>\n",
              "  <tbody>\n",
              "    <tr>\n",
              "      <th id=\"T_9664b_level0_row0\" class=\"row_heading level0 row0\" >moveis</th>\n",
              "      <td id=\"T_9664b_row0_col0\" class=\"data row0 col0\" >465</td>\n",
              "      <td id=\"T_9664b_row0_col1\" class=\"data row0 col1\" >442</td>\n",
              "      <td id=\"T_9664b_row0_col2\" class=\"data row0 col2\" >499</td>\n",
              "      <td id=\"T_9664b_row0_col3\" class=\"data row0 col3\" >480</td>\n",
              "    </tr>\n",
              "    <tr>\n",
              "      <th id=\"T_9664b_level0_row1\" class=\"row_heading level0 row1\" >eletronicos</th>\n",
              "      <td id=\"T_9664b_row1_col0\" class=\"data row1 col0\" >448</td>\n",
              "      <td id=\"T_9664b_row1_col1\" class=\"data row1 col1\" >422</td>\n",
              "      <td id=\"T_9664b_row1_col2\" class=\"data row1 col2\" >451</td>\n",
              "      <td id=\"T_9664b_row1_col3\" class=\"data row1 col3\" >451</td>\n",
              "    </tr>\n",
              "    <tr>\n",
              "      <th id=\"T_9664b_level0_row2\" class=\"row_heading level0 row2\" >brinquedos</th>\n",
              "      <td id=\"T_9664b_row2_col0\" class=\"data row2 col0\" >324</td>\n",
              "      <td id=\"T_9664b_row2_col1\" class=\"data row2 col1\" >313</td>\n",
              "      <td id=\"T_9664b_row2_col2\" class=\"data row2 col2\" >315</td>\n",
              "      <td id=\"T_9664b_row2_col3\" class=\"data row2 col3\" >338</td>\n",
              "    </tr>\n",
              "    <tr>\n",
              "      <th id=\"T_9664b_level0_row3\" class=\"row_heading level0 row3\" >eletrodomesticos</th>\n",
              "      <td id=\"T_9664b_row3_col0\" class=\"data row3 col0\" >312</td>\n",
              "      <td id=\"T_9664b_row3_col1\" class=\"data row3 col1\" >305</td>\n",
              "      <td id=\"T_9664b_row3_col2\" class=\"data row3 col2\" >278</td>\n",
              "      <td id=\"T_9664b_row3_col3\" class=\"data row3 col3\" >254</td>\n",
              "    </tr>\n",
              "    <tr>\n",
              "      <th id=\"T_9664b_level0_row4\" class=\"row_heading level0 row4\" >esporte e lazer</th>\n",
              "      <td id=\"T_9664b_row4_col0\" class=\"data row4 col0\" >284</td>\n",
              "      <td id=\"T_9664b_row4_col1\" class=\"data row4 col1\" >275</td>\n",
              "      <td id=\"T_9664b_row4_col2\" class=\"data row4 col2\" >277</td>\n",
              "      <td id=\"T_9664b_row4_col3\" class=\"data row4 col3\" >277</td>\n",
              "    </tr>\n",
              "    <tr>\n",
              "      <th id=\"T_9664b_level0_row5\" class=\"row_heading level0 row5\" >instrumentos musicais</th>\n",
              "      <td id=\"T_9664b_row5_col0\" class=\"data row5 col0\" >182</td>\n",
              "      <td id=\"T_9664b_row5_col1\" class=\"data row5 col1\" >224</td>\n",
              "      <td id=\"T_9664b_row5_col2\" class=\"data row5 col2\" >177</td>\n",
              "      <td id=\"T_9664b_row5_col3\" class=\"data row5 col3\" >170</td>\n",
              "    </tr>\n",
              "    <tr>\n",
              "      <th id=\"T_9664b_level0_row6\" class=\"row_heading level0 row6\" >livros</th>\n",
              "      <td id=\"T_9664b_row6_col0\" class=\"data row6 col0\" >173</td>\n",
              "      <td id=\"T_9664b_row6_col1\" class=\"data row6 col1\" >197</td>\n",
              "      <td id=\"T_9664b_row6_col2\" class=\"data row6 col2\" >185</td>\n",
              "      <td id=\"T_9664b_row6_col3\" class=\"data row6 col3\" >187</td>\n",
              "    </tr>\n",
              "    <tr>\n",
              "      <th id=\"T_9664b_level0_row7\" class=\"row_heading level0 row7\" >utilidades domesticas</th>\n",
              "      <td id=\"T_9664b_row7_col0\" class=\"data row7 col0\" >171</td>\n",
              "      <td id=\"T_9664b_row7_col1\" class=\"data row7 col1\" >181</td>\n",
              "      <td id=\"T_9664b_row7_col2\" class=\"data row7 col2\" >177</td>\n",
              "      <td id=\"T_9664b_row7_col3\" class=\"data row7 col3\" >201</td>\n",
              "    </tr>\n",
              "  </tbody>\n",
              "</table>\n"
            ]
          },
          "metadata": {},
          "execution_count": 23
        }
      ]
    },
    {
      "cell_type": "markdown",
      "source": [
        "# 3. Média de Avaliação das Lojas"
      ],
      "metadata": {
        "id": "Rq6tU_xSY3jk"
      }
    },
    {
      "cell_type": "code",
      "source": [
        "dados_completo['Avaliação da compra'] = dados_completo['Avaliação da compra'].clip(0, 5)\n",
        "media_avaliacao = dados_completo.groupby('Loja')['Avaliação da compra'].mean()"
      ],
      "metadata": {
        "id": "bh3jjjJwY5MU"
      },
      "execution_count": 8,
      "outputs": []
    },
    {
      "cell_type": "code",
      "source": [
        "(media_avaliacao.to_frame('Avaliação da Loja')\n",
        " .style\n",
        " .format('{:,.2f}')\n",
        " .set_caption('Média de avaliação por loja'))"
      ],
      "metadata": {
        "id": "I0KkjPoTY88F",
        "colab": {
          "base_uri": "https://localhost:8080/",
          "height": 224
        },
        "outputId": "428b6d0b-5885-46a8-f827-f826a307728b"
      },
      "execution_count": 9,
      "outputs": [
        {
          "output_type": "execute_result",
          "data": {
            "text/plain": [
              "<pandas.io.formats.style.Styler at 0x7fe208fad7d0>"
            ],
            "text/html": [
              "<style type=\"text/css\">\n",
              "</style>\n",
              "<table id=\"T_8a0ba\" class=\"dataframe\">\n",
              "  <caption>Média de avaliação por loja</caption>\n",
              "  <thead>\n",
              "    <tr>\n",
              "      <th class=\"blank level0\" >&nbsp;</th>\n",
              "      <th id=\"T_8a0ba_level0_col0\" class=\"col_heading level0 col0\" >Avaliação da Loja</th>\n",
              "    </tr>\n",
              "    <tr>\n",
              "      <th class=\"index_name level0\" >Loja</th>\n",
              "      <th class=\"blank col0\" >&nbsp;</th>\n",
              "    </tr>\n",
              "  </thead>\n",
              "  <tbody>\n",
              "    <tr>\n",
              "      <th id=\"T_8a0ba_level0_row0\" class=\"row_heading level0 row0\" >Loja 1</th>\n",
              "      <td id=\"T_8a0ba_row0_col0\" class=\"data row0 col0\" >3.98</td>\n",
              "    </tr>\n",
              "    <tr>\n",
              "      <th id=\"T_8a0ba_level0_row1\" class=\"row_heading level0 row1\" >Loja 2</th>\n",
              "      <td id=\"T_8a0ba_row1_col0\" class=\"data row1 col0\" >4.04</td>\n",
              "    </tr>\n",
              "    <tr>\n",
              "      <th id=\"T_8a0ba_level0_row2\" class=\"row_heading level0 row2\" >Loja 3</th>\n",
              "      <td id=\"T_8a0ba_row2_col0\" class=\"data row2 col0\" >4.05</td>\n",
              "    </tr>\n",
              "    <tr>\n",
              "      <th id=\"T_8a0ba_level0_row3\" class=\"row_heading level0 row3\" >Loja 4</th>\n",
              "      <td id=\"T_8a0ba_row3_col0\" class=\"data row3 col0\" >4.00</td>\n",
              "    </tr>\n",
              "  </tbody>\n",
              "</table>\n"
            ]
          },
          "metadata": {},
          "execution_count": 9
        }
      ]
    },
    {
      "cell_type": "markdown",
      "source": [
        "# 4. Produtos Mais e Menos Vendidos"
      ],
      "metadata": {
        "id": "DmNp1KPBZCm-"
      }
    },
    {
      "cell_type": "code",
      "source": [
        "def top_produtos(loja, n=5):\n",
        "    return (\n",
        "        dados_completo[dados_completo['Loja'] == loja]['Produto']\n",
        "        .value_counts()\n",
        "        .head(n)\n",
        "        .to_frame('Qtd Vendida')\n",
        "        .style\n",
        "        .set_caption(f'{loja} - Top {n} Produtos Mais Vendidos')\n",
        "    )\n",
        "\n",
        "def bottom_produtos(loja, n=5):\n",
        "    return (\n",
        "        dados_completo[dados_completo['Loja'] == loja]['Produto']\n",
        "        .value_counts()\n",
        "        .tail(n)\n",
        "        .to_frame('Qtd Vendida')\n",
        "        .style\n",
        "        .set_caption(f'{loja} - {n} Produtos Menos Vendidos')\n",
        "        .format('{:,}')\n",
        "    )"
      ],
      "metadata": {
        "id": "qoyjqijQZHfF"
      },
      "execution_count": 10,
      "outputs": []
    },
    {
      "cell_type": "code",
      "source": [
        "for loja in sorted(dados_completo['Loja'].unique()):\n",
        "    display(top_produtos(loja))\n",
        "    display(bottom_produtos(loja))\n",
        "    print(\"\\n\" + \"=\"*50 + \"\\n\")"
      ],
      "metadata": {
        "id": "0Sw3sd4IZIGW",
        "colab": {
          "base_uri": "https://localhost:8080/",
          "height": 1000
        },
        "outputId": "2e573475-fb0c-463f-c121-b35d801252b6"
      },
      "execution_count": 11,
      "outputs": [
        {
          "output_type": "display_data",
          "data": {
            "text/plain": [
              "<pandas.io.formats.style.Styler at 0x7fe2084fc910>"
            ],
            "text/html": [
              "<style type=\"text/css\">\n",
              "</style>\n",
              "<table id=\"T_ef838\" class=\"dataframe\">\n",
              "  <caption>Loja 1 - Top 5 Produtos Mais Vendidos</caption>\n",
              "  <thead>\n",
              "    <tr>\n",
              "      <th class=\"blank level0\" >&nbsp;</th>\n",
              "      <th id=\"T_ef838_level0_col0\" class=\"col_heading level0 col0\" >Qtd Vendida</th>\n",
              "    </tr>\n",
              "    <tr>\n",
              "      <th class=\"index_name level0\" >Produto</th>\n",
              "      <th class=\"blank col0\" >&nbsp;</th>\n",
              "    </tr>\n",
              "  </thead>\n",
              "  <tbody>\n",
              "    <tr>\n",
              "      <th id=\"T_ef838_level0_row0\" class=\"row_heading level0 row0\" >Micro-ondas</th>\n",
              "      <td id=\"T_ef838_row0_col0\" class=\"data row0 col0\" >60</td>\n",
              "    </tr>\n",
              "    <tr>\n",
              "      <th id=\"T_ef838_level0_row1\" class=\"row_heading level0 row1\" >TV Led UHD 4K</th>\n",
              "      <td id=\"T_ef838_row1_col0\" class=\"data row1 col0\" >60</td>\n",
              "    </tr>\n",
              "    <tr>\n",
              "      <th id=\"T_ef838_level0_row2\" class=\"row_heading level0 row2\" >Guarda roupas</th>\n",
              "      <td id=\"T_ef838_row2_col0\" class=\"data row2 col0\" >60</td>\n",
              "    </tr>\n",
              "    <tr>\n",
              "      <th id=\"T_ef838_level0_row3\" class=\"row_heading level0 row3\" >Secadora de roupas</th>\n",
              "      <td id=\"T_ef838_row3_col0\" class=\"data row3 col0\" >58</td>\n",
              "    </tr>\n",
              "    <tr>\n",
              "      <th id=\"T_ef838_level0_row4\" class=\"row_heading level0 row4\" >Cômoda</th>\n",
              "      <td id=\"T_ef838_row4_col0\" class=\"data row4 col0\" >56</td>\n",
              "    </tr>\n",
              "  </tbody>\n",
              "</table>\n"
            ]
          },
          "metadata": {}
        },
        {
          "output_type": "display_data",
          "data": {
            "text/plain": [
              "<pandas.io.formats.style.Styler at 0x7fe209d12750>"
            ],
            "text/html": [
              "<style type=\"text/css\">\n",
              "</style>\n",
              "<table id=\"T_6f383\" class=\"dataframe\">\n",
              "  <caption>Loja 1 - 5 Produtos Menos Vendidos</caption>\n",
              "  <thead>\n",
              "    <tr>\n",
              "      <th class=\"blank level0\" >&nbsp;</th>\n",
              "      <th id=\"T_6f383_level0_col0\" class=\"col_heading level0 col0\" >Qtd Vendida</th>\n",
              "    </tr>\n",
              "    <tr>\n",
              "      <th class=\"index_name level0\" >Produto</th>\n",
              "      <th class=\"blank col0\" >&nbsp;</th>\n",
              "    </tr>\n",
              "  </thead>\n",
              "  <tbody>\n",
              "    <tr>\n",
              "      <th id=\"T_6f383_level0_row0\" class=\"row_heading level0 row0\" >Ciência de dados com python</th>\n",
              "      <td id=\"T_6f383_row0_col0\" class=\"data row0 col0\" >39</td>\n",
              "    </tr>\n",
              "    <tr>\n",
              "      <th id=\"T_6f383_level0_row1\" class=\"row_heading level0 row1\" >Pandeiro</th>\n",
              "      <td id=\"T_6f383_row1_col0\" class=\"data row1 col0\" >36</td>\n",
              "    </tr>\n",
              "    <tr>\n",
              "      <th id=\"T_6f383_level0_row2\" class=\"row_heading level0 row2\" >Panela de pressão</th>\n",
              "      <td id=\"T_6f383_row2_col0\" class=\"data row2 col0\" >35</td>\n",
              "    </tr>\n",
              "    <tr>\n",
              "      <th id=\"T_6f383_level0_row3\" class=\"row_heading level0 row3\" >Headset</th>\n",
              "      <td id=\"T_6f383_row3_col0\" class=\"data row3 col0\" >33</td>\n",
              "    </tr>\n",
              "    <tr>\n",
              "      <th id=\"T_6f383_level0_row4\" class=\"row_heading level0 row4\" >Celular ABXY</th>\n",
              "      <td id=\"T_6f383_row4_col0\" class=\"data row4 col0\" >33</td>\n",
              "    </tr>\n",
              "  </tbody>\n",
              "</table>\n"
            ]
          },
          "metadata": {}
        },
        {
          "output_type": "stream",
          "name": "stdout",
          "text": [
            "\n",
            "==================================================\n",
            "\n"
          ]
        },
        {
          "output_type": "display_data",
          "data": {
            "text/plain": [
              "<pandas.io.formats.style.Styler at 0x7fe209d12750>"
            ],
            "text/html": [
              "<style type=\"text/css\">\n",
              "</style>\n",
              "<table id=\"T_37d3c\" class=\"dataframe\">\n",
              "  <caption>Loja 2 - Top 5 Produtos Mais Vendidos</caption>\n",
              "  <thead>\n",
              "    <tr>\n",
              "      <th class=\"blank level0\" >&nbsp;</th>\n",
              "      <th id=\"T_37d3c_level0_col0\" class=\"col_heading level0 col0\" >Qtd Vendida</th>\n",
              "    </tr>\n",
              "    <tr>\n",
              "      <th class=\"index_name level0\" >Produto</th>\n",
              "      <th class=\"blank col0\" >&nbsp;</th>\n",
              "    </tr>\n",
              "  </thead>\n",
              "  <tbody>\n",
              "    <tr>\n",
              "      <th id=\"T_37d3c_level0_row0\" class=\"row_heading level0 row0\" >Iniciando em programação</th>\n",
              "      <td id=\"T_37d3c_row0_col0\" class=\"data row0 col0\" >65</td>\n",
              "    </tr>\n",
              "    <tr>\n",
              "      <th id=\"T_37d3c_level0_row1\" class=\"row_heading level0 row1\" >Micro-ondas</th>\n",
              "      <td id=\"T_37d3c_row1_col0\" class=\"data row1 col0\" >62</td>\n",
              "    </tr>\n",
              "    <tr>\n",
              "      <th id=\"T_37d3c_level0_row2\" class=\"row_heading level0 row2\" >Bateria</th>\n",
              "      <td id=\"T_37d3c_row2_col0\" class=\"data row2 col0\" >61</td>\n",
              "    </tr>\n",
              "    <tr>\n",
              "      <th id=\"T_37d3c_level0_row3\" class=\"row_heading level0 row3\" >Violão</th>\n",
              "      <td id=\"T_37d3c_row3_col0\" class=\"data row3 col0\" >58</td>\n",
              "    </tr>\n",
              "    <tr>\n",
              "      <th id=\"T_37d3c_level0_row4\" class=\"row_heading level0 row4\" >Pandeiro</th>\n",
              "      <td id=\"T_37d3c_row4_col0\" class=\"data row4 col0\" >58</td>\n",
              "    </tr>\n",
              "  </tbody>\n",
              "</table>\n"
            ]
          },
          "metadata": {}
        },
        {
          "output_type": "display_data",
          "data": {
            "text/plain": [
              "<pandas.io.formats.style.Styler at 0x7fe209743010>"
            ],
            "text/html": [
              "<style type=\"text/css\">\n",
              "</style>\n",
              "<table id=\"T_9b3c9\" class=\"dataframe\">\n",
              "  <caption>Loja 2 - 5 Produtos Menos Vendidos</caption>\n",
              "  <thead>\n",
              "    <tr>\n",
              "      <th class=\"blank level0\" >&nbsp;</th>\n",
              "      <th id=\"T_9b3c9_level0_col0\" class=\"col_heading level0 col0\" >Qtd Vendida</th>\n",
              "    </tr>\n",
              "    <tr>\n",
              "      <th class=\"index_name level0\" >Produto</th>\n",
              "      <th class=\"blank col0\" >&nbsp;</th>\n",
              "    </tr>\n",
              "  </thead>\n",
              "  <tbody>\n",
              "    <tr>\n",
              "      <th id=\"T_9b3c9_level0_row0\" class=\"row_heading level0 row0\" >Fone de ouvido</th>\n",
              "      <td id=\"T_9b3c9_row0_col0\" class=\"data row0 col0\" >37</td>\n",
              "    </tr>\n",
              "    <tr>\n",
              "      <th id=\"T_9b3c9_level0_row1\" class=\"row_heading level0 row1\" >Poltrona</th>\n",
              "      <td id=\"T_9b3c9_row1_col0\" class=\"data row1 col0\" >35</td>\n",
              "    </tr>\n",
              "    <tr>\n",
              "      <th id=\"T_9b3c9_level0_row2\" class=\"row_heading level0 row2\" >Mesa de jantar</th>\n",
              "      <td id=\"T_9b3c9_row2_col0\" class=\"data row2 col0\" >34</td>\n",
              "    </tr>\n",
              "    <tr>\n",
              "      <th id=\"T_9b3c9_level0_row3\" class=\"row_heading level0 row3\" >Impressora</th>\n",
              "      <td id=\"T_9b3c9_row3_col0\" class=\"data row3 col0\" >34</td>\n",
              "    </tr>\n",
              "    <tr>\n",
              "      <th id=\"T_9b3c9_level0_row4\" class=\"row_heading level0 row4\" >Jogo de tabuleiro</th>\n",
              "      <td id=\"T_9b3c9_row4_col0\" class=\"data row4 col0\" >32</td>\n",
              "    </tr>\n",
              "  </tbody>\n",
              "</table>\n"
            ]
          },
          "metadata": {}
        },
        {
          "output_type": "stream",
          "name": "stdout",
          "text": [
            "\n",
            "==================================================\n",
            "\n"
          ]
        },
        {
          "output_type": "display_data",
          "data": {
            "text/plain": [
              "<pandas.io.formats.style.Styler at 0x7fe208fb9090>"
            ],
            "text/html": [
              "<style type=\"text/css\">\n",
              "</style>\n",
              "<table id=\"T_5054c\" class=\"dataframe\">\n",
              "  <caption>Loja 3 - Top 5 Produtos Mais Vendidos</caption>\n",
              "  <thead>\n",
              "    <tr>\n",
              "      <th class=\"blank level0\" >&nbsp;</th>\n",
              "      <th id=\"T_5054c_level0_col0\" class=\"col_heading level0 col0\" >Qtd Vendida</th>\n",
              "    </tr>\n",
              "    <tr>\n",
              "      <th class=\"index_name level0\" >Produto</th>\n",
              "      <th class=\"blank col0\" >&nbsp;</th>\n",
              "    </tr>\n",
              "  </thead>\n",
              "  <tbody>\n",
              "    <tr>\n",
              "      <th id=\"T_5054c_level0_row0\" class=\"row_heading level0 row0\" >Kit banquetas</th>\n",
              "      <td id=\"T_5054c_row0_col0\" class=\"data row0 col0\" >57</td>\n",
              "    </tr>\n",
              "    <tr>\n",
              "      <th id=\"T_5054c_level0_row1\" class=\"row_heading level0 row1\" >Mesa de jantar</th>\n",
              "      <td id=\"T_5054c_row1_col0\" class=\"data row1 col0\" >56</td>\n",
              "    </tr>\n",
              "    <tr>\n",
              "      <th id=\"T_5054c_level0_row2\" class=\"row_heading level0 row2\" >Cama king</th>\n",
              "      <td id=\"T_5054c_row2_col0\" class=\"data row2 col0\" >56</td>\n",
              "    </tr>\n",
              "    <tr>\n",
              "      <th id=\"T_5054c_level0_row3\" class=\"row_heading level0 row3\" >Jogo de panelas</th>\n",
              "      <td id=\"T_5054c_row3_col0\" class=\"data row3 col0\" >55</td>\n",
              "    </tr>\n",
              "    <tr>\n",
              "      <th id=\"T_5054c_level0_row4\" class=\"row_heading level0 row4\" >Cômoda</th>\n",
              "      <td id=\"T_5054c_row4_col0\" class=\"data row4 col0\" >55</td>\n",
              "    </tr>\n",
              "  </tbody>\n",
              "</table>\n"
            ]
          },
          "metadata": {}
        },
        {
          "output_type": "display_data",
          "data": {
            "text/plain": [
              "<pandas.io.formats.style.Styler at 0x7fe208fb9090>"
            ],
            "text/html": [
              "<style type=\"text/css\">\n",
              "</style>\n",
              "<table id=\"T_083a8\" class=\"dataframe\">\n",
              "  <caption>Loja 3 - 5 Produtos Menos Vendidos</caption>\n",
              "  <thead>\n",
              "    <tr>\n",
              "      <th class=\"blank level0\" >&nbsp;</th>\n",
              "      <th id=\"T_083a8_level0_col0\" class=\"col_heading level0 col0\" >Qtd Vendida</th>\n",
              "    </tr>\n",
              "    <tr>\n",
              "      <th class=\"index_name level0\" >Produto</th>\n",
              "      <th class=\"blank col0\" >&nbsp;</th>\n",
              "    </tr>\n",
              "  </thead>\n",
              "  <tbody>\n",
              "    <tr>\n",
              "      <th id=\"T_083a8_level0_row0\" class=\"row_heading level0 row0\" >Guitarra</th>\n",
              "      <td id=\"T_083a8_row0_col0\" class=\"data row0 col0\" >38</td>\n",
              "    </tr>\n",
              "    <tr>\n",
              "      <th id=\"T_083a8_level0_row1\" class=\"row_heading level0 row1\" >Jogo de copos</th>\n",
              "      <td id=\"T_083a8_row1_col0\" class=\"data row1 col0\" >36</td>\n",
              "    </tr>\n",
              "    <tr>\n",
              "      <th id=\"T_083a8_level0_row2\" class=\"row_heading level0 row2\" >Mochila</th>\n",
              "      <td id=\"T_083a8_row2_col0\" class=\"data row2 col0\" >36</td>\n",
              "    </tr>\n",
              "    <tr>\n",
              "      <th id=\"T_083a8_level0_row3\" class=\"row_heading level0 row3\" >Micro-ondas</th>\n",
              "      <td id=\"T_083a8_row3_col0\" class=\"data row3 col0\" >36</td>\n",
              "    </tr>\n",
              "    <tr>\n",
              "      <th id=\"T_083a8_level0_row4\" class=\"row_heading level0 row4\" >Blocos de montar</th>\n",
              "      <td id=\"T_083a8_row4_col0\" class=\"data row4 col0\" >35</td>\n",
              "    </tr>\n",
              "  </tbody>\n",
              "</table>\n"
            ]
          },
          "metadata": {}
        },
        {
          "output_type": "stream",
          "name": "stdout",
          "text": [
            "\n",
            "==================================================\n",
            "\n"
          ]
        },
        {
          "output_type": "display_data",
          "data": {
            "text/plain": [
              "<pandas.io.formats.style.Styler at 0x7fe209d12750>"
            ],
            "text/html": [
              "<style type=\"text/css\">\n",
              "</style>\n",
              "<table id=\"T_77942\" class=\"dataframe\">\n",
              "  <caption>Loja 4 - Top 5 Produtos Mais Vendidos</caption>\n",
              "  <thead>\n",
              "    <tr>\n",
              "      <th class=\"blank level0\" >&nbsp;</th>\n",
              "      <th id=\"T_77942_level0_col0\" class=\"col_heading level0 col0\" >Qtd Vendida</th>\n",
              "    </tr>\n",
              "    <tr>\n",
              "      <th class=\"index_name level0\" >Produto</th>\n",
              "      <th class=\"blank col0\" >&nbsp;</th>\n",
              "    </tr>\n",
              "  </thead>\n",
              "  <tbody>\n",
              "    <tr>\n",
              "      <th id=\"T_77942_level0_row0\" class=\"row_heading level0 row0\" >Cama box</th>\n",
              "      <td id=\"T_77942_row0_col0\" class=\"data row0 col0\" >62</td>\n",
              "    </tr>\n",
              "    <tr>\n",
              "      <th id=\"T_77942_level0_row1\" class=\"row_heading level0 row1\" >Faqueiro</th>\n",
              "      <td id=\"T_77942_row1_col0\" class=\"data row1 col0\" >59</td>\n",
              "    </tr>\n",
              "    <tr>\n",
              "      <th id=\"T_77942_level0_row2\" class=\"row_heading level0 row2\" >Dashboards com Power BI</th>\n",
              "      <td id=\"T_77942_row2_col0\" class=\"data row2 col0\" >56</td>\n",
              "    </tr>\n",
              "    <tr>\n",
              "      <th id=\"T_77942_level0_row3\" class=\"row_heading level0 row3\" >Cama king</th>\n",
              "      <td id=\"T_77942_row3_col0\" class=\"data row3 col0\" >56</td>\n",
              "    </tr>\n",
              "    <tr>\n",
              "      <th id=\"T_77942_level0_row4\" class=\"row_heading level0 row4\" >Carrinho controle remoto</th>\n",
              "      <td id=\"T_77942_row4_col0\" class=\"data row4 col0\" >55</td>\n",
              "    </tr>\n",
              "  </tbody>\n",
              "</table>\n"
            ]
          },
          "metadata": {}
        },
        {
          "output_type": "display_data",
          "data": {
            "text/plain": [
              "<pandas.io.formats.style.Styler at 0x7fe2084f73d0>"
            ],
            "text/html": [
              "<style type=\"text/css\">\n",
              "</style>\n",
              "<table id=\"T_5a374\" class=\"dataframe\">\n",
              "  <caption>Loja 4 - 5 Produtos Menos Vendidos</caption>\n",
              "  <thead>\n",
              "    <tr>\n",
              "      <th class=\"blank level0\" >&nbsp;</th>\n",
              "      <th id=\"T_5a374_level0_col0\" class=\"col_heading level0 col0\" >Qtd Vendida</th>\n",
              "    </tr>\n",
              "    <tr>\n",
              "      <th class=\"index_name level0\" >Produto</th>\n",
              "      <th class=\"blank col0\" >&nbsp;</th>\n",
              "    </tr>\n",
              "  </thead>\n",
              "  <tbody>\n",
              "    <tr>\n",
              "      <th id=\"T_5a374_level0_row0\" class=\"row_heading level0 row0\" >Geladeira</th>\n",
              "      <td id=\"T_5a374_row0_col0\" class=\"data row0 col0\" >38</td>\n",
              "    </tr>\n",
              "    <tr>\n",
              "      <th id=\"T_5a374_level0_row1\" class=\"row_heading level0 row1\" >Ciência de dados com python</th>\n",
              "      <td id=\"T_5a374_row1_col0\" class=\"data row1 col0\" >38</td>\n",
              "    </tr>\n",
              "    <tr>\n",
              "      <th id=\"T_5a374_level0_row2\" class=\"row_heading level0 row2\" >Violão</th>\n",
              "      <td id=\"T_5a374_row2_col0\" class=\"data row2 col0\" >37</td>\n",
              "    </tr>\n",
              "    <tr>\n",
              "      <th id=\"T_5a374_level0_row3\" class=\"row_heading level0 row3\" >Guarda roupas</th>\n",
              "      <td id=\"T_5a374_row3_col0\" class=\"data row3 col0\" >34</td>\n",
              "    </tr>\n",
              "    <tr>\n",
              "      <th id=\"T_5a374_level0_row4\" class=\"row_heading level0 row4\" >Guitarra</th>\n",
              "      <td id=\"T_5a374_row4_col0\" class=\"data row4 col0\" >33</td>\n",
              "    </tr>\n",
              "  </tbody>\n",
              "</table>\n"
            ]
          },
          "metadata": {}
        },
        {
          "output_type": "stream",
          "name": "stdout",
          "text": [
            "\n",
            "==================================================\n",
            "\n"
          ]
        }
      ]
    },
    {
      "cell_type": "markdown",
      "source": [
        "# 5. Frete Médio por Loja\n"
      ],
      "metadata": {
        "id": "94AMzhtJrHE1"
      }
    },
    {
      "cell_type": "code",
      "source": [
        "frete_medio = dados_completo.groupby('Loja')['Frete'].mean()"
      ],
      "metadata": {
        "id": "S2JeaCykZNy9"
      },
      "execution_count": 12,
      "outputs": []
    },
    {
      "cell_type": "code",
      "source": [
        "(frete_medio.to_frame('Frete Médio')\n",
        " .style\n",
        " .format('R${:,.2f}')\n",
        " .set_caption('Frete Médio por Loja'))"
      ],
      "metadata": {
        "id": "0tSdCie9ZQlt",
        "colab": {
          "base_uri": "https://localhost:8080/",
          "height": 224
        },
        "outputId": "e0888dc6-45c5-45ea-cace-67d4173924fd"
      },
      "execution_count": 13,
      "outputs": [
        {
          "output_type": "execute_result",
          "data": {
            "text/plain": [
              "<pandas.io.formats.style.Styler at 0x7fe2084847d0>"
            ],
            "text/html": [
              "<style type=\"text/css\">\n",
              "</style>\n",
              "<table id=\"T_0b470\" class=\"dataframe\">\n",
              "  <caption>Frete Médio por Loja</caption>\n",
              "  <thead>\n",
              "    <tr>\n",
              "      <th class=\"blank level0\" >&nbsp;</th>\n",
              "      <th id=\"T_0b470_level0_col0\" class=\"col_heading level0 col0\" >Frete Médio</th>\n",
              "    </tr>\n",
              "    <tr>\n",
              "      <th class=\"index_name level0\" >Loja</th>\n",
              "      <th class=\"blank col0\" >&nbsp;</th>\n",
              "    </tr>\n",
              "  </thead>\n",
              "  <tbody>\n",
              "    <tr>\n",
              "      <th id=\"T_0b470_level0_row0\" class=\"row_heading level0 row0\" >Loja 1</th>\n",
              "      <td id=\"T_0b470_row0_col0\" class=\"data row0 col0\" >R$34.69</td>\n",
              "    </tr>\n",
              "    <tr>\n",
              "      <th id=\"T_0b470_level0_row1\" class=\"row_heading level0 row1\" >Loja 2</th>\n",
              "      <td id=\"T_0b470_row1_col0\" class=\"data row1 col0\" >R$33.62</td>\n",
              "    </tr>\n",
              "    <tr>\n",
              "      <th id=\"T_0b470_level0_row2\" class=\"row_heading level0 row2\" >Loja 3</th>\n",
              "      <td id=\"T_0b470_row2_col0\" class=\"data row2 col0\" >R$33.07</td>\n",
              "    </tr>\n",
              "    <tr>\n",
              "      <th id=\"T_0b470_level0_row3\" class=\"row_heading level0 row3\" >Loja 4</th>\n",
              "      <td id=\"T_0b470_row3_col0\" class=\"data row3 col0\" >R$31.28</td>\n",
              "    </tr>\n",
              "  </tbody>\n",
              "</table>\n"
            ]
          },
          "metadata": {},
          "execution_count": 13
        }
      ]
    },
    {
      "cell_type": "markdown",
      "source": [
        "# Graficos"
      ],
      "metadata": {
        "id": "Fl0cGi3bZKqU"
      }
    },
    {
      "cell_type": "code",
      "source": [
        "plt.figure(figsize=(10, 6))\n",
        "bars = plt.bar(\n",
        "    faturamento_por_loja.index,\n",
        "    faturamento_por_loja.values,\n",
        "    color=['#1f77b4', '#ff7f0e', '#2ca02c', '#d62728'],\n",
        "    edgecolor='black',\n",
        "    alpha=0.8\n",
        ")\n",
        "\n",
        "for bar in bars:\n",
        "    height = bar.get_height()\n",
        "    plt.text(\n",
        "        bar.get_x() + bar.get_width()/2.,\n",
        "        height * 1.01,\n",
        "        f'R$ {height:,.2f}',\n",
        "        ha='center',\n",
        "        va='bottom',\n",
        "        fontsize=10\n",
        "    )\n",
        "\n",
        "plt.title('Faturamento Total por Loja', fontsize=16, pad=20, fontweight='bold')\n",
        "plt.xlabel('Loja', fontsize=12)\n",
        "plt.ylabel('Faturamento (R$)', fontsize=12)\n",
        "plt.grid(axis='y', linestyle='--', alpha=0.6)\n",
        "plt.tight_layout()\n",
        "plt.show()\n",
        "print(\"\\n\" + \"=\"*150 + \"\\n\")\n",
        "\n",
        "# Grafico de linhas\n",
        "plt.figure(figsize=(10, 6))\n",
        "plt.plot(\n",
        "    frete_medio.index,\n",
        "    frete_medio.values,\n",
        "    marker='o',\n",
        "    markersize=8,\n",
        "    linewidth=2,\n",
        "    color='#9467bd'\n",
        ")\n",
        "\n",
        "for x, y in zip(frete_medio.index, frete_medio.values):\n",
        "    plt.text(x, y + 0.2, f'R$ {y:.2f}', ha='center', va='bottom', fontsize=11)\n",
        "\n",
        "plt.title('Frete Médio por Loja', fontsize=15, pad=20, fontweight='bold')\n",
        "plt.xlabel('Loja', fontsize=12)\n",
        "plt.ylabel('Frete Médio (R$)', fontsize=12)\n",
        "plt.grid(linestyle='--', alpha=0.5)\n",
        "plt.tight_layout()\n",
        "plt.show()\n",
        "print(\"\\n\" + \"=\"*150 + \"\\n\")\n",
        "\n",
        "# Gráfico de barras empilhadas\n",
        "fig, ax = plt.subplots(figsize=(10, 6))\n",
        "\n",
        "vendas_por_categoria.plot(\n",
        "    kind='bar',\n",
        "    stacked=True,\n",
        "    ax=ax,\n",
        "    colormap='tab20',\n",
        "    edgecolor='white',\n",
        "    linewidth=0.7,\n",
        "    alpha=0.95\n",
        ")\n",
        "\n",
        "ax.set_title('Distribuição de Vendas por Categoria por Loja', fontsize=16, fontweight='bold', pad=15)\n",
        "ax.set_xlabel('Loja', fontsize=12)\n",
        "ax.set_ylabel('Quantidade Vendida', fontsize=12)\n",
        "ax.grid(axis='y', linestyle='--', alpha=0.3)\n",
        "ax.legend(title='Categoria', bbox_to_anchor=(1.02, 1), loc='upper left', frameon=False)\n",
        "plt.xticks(rotation=0, fontsize=11)\n",
        "plt.yticks(fontsize=11)\n",
        "plt.tight_layout()\n",
        "plt.show()"
      ],
      "metadata": {
        "colab": {
          "base_uri": "https://localhost:8080/",
          "height": 1000
        },
        "id": "Jlorv2pITrRh",
        "outputId": "4e3187b5-7db0-4a54-ddd6-e16677780a4d"
      },
      "execution_count": 24,
      "outputs": [
        {
          "output_type": "display_data",
          "data": {
            "text/plain": [
              "<Figure size 1000x600 with 1 Axes>"
            ],
            "image/png": "[encoded data removed]"
          },
          "metadata": {}
        },
        {
          "output_type": "stream",
          "name": "stdout",
          "text": [
            "\n",
            "======================================================================================================================================================\n",
            "\n"
          ]
        },
        {
          "output_type": "display_data",
          "data": {
            "text/plain": [
              "<Figure size 1000x600 with 1 Axes>"
            ],
            "image/png": "[encoded data removed]"
          },
          "metadata": {}
        },
        {
          "output_type": "stream",
          "name": "stdout",
          "text": [
            "\n",
            "======================================================================================================================================================\n",
            "\n"
          ]
        },
        {
          "output_type": "display_data",
          "data": {
            "text/plain": [
              "<Figure size 1000x600 with 1 Axes>"
            ],
            "image/png": "[encoded data removed]"
          },
          "metadata": {}
        }
      ]
    },
    {
      "cell_type": "markdown",
      "source": [
        "# Relatório"
      ],
      "metadata": {
        "id": "Zqf5hf2RTonV"
      }
    },
    {
      "cell_type": "markdown",
      "source": [
        "## **Objetivo**\n",
        "\n",
        "Este relatório tem como objetivo analisar o desempenho de quatro lojas da Alura Store e, com base nos dados de vendas, avaliação e faturamento, recomendar qual loja apresenta os piores resultados e, portanto, deveria ser vendida.\n",
        "\n",
        "---\n",
        "\n",
        "## Análises Realizadas\n",
        "\n",
        "### 1. Faturamento Total por Loja\n",
        "\n",
        "A loja com maior faturamento foi a **Loja 1**, seguida pela Loja 2 e Loja 3. A **Loja 4 apresentou o menor faturamento** entre todas.\n",
        "\n",
        "- **Loja 1**: R$ 1.534.509,12\n",
        "\n",
        "- **Loja 2**: R$ 1.488.459,06\n",
        "\n",
        "- **Loja 3**: R$ 1.464.025,03\n",
        "\n",
        "- **Loja 4**: R$ 1.384.497,58\n",
        "\n",
        "\n",
        "### 2. Vendas por Categoria\n",
        "\n",
        "As lojas variam em desempenho conforme a categoria de produto. No geral:\n",
        "\n",
        "- Loja 1 e Loja 2 vendem mais em categorias populares como \"Móveis\" e \"Eletrônicos\".\n",
        "- A **Loja 4 possui um volume muito menor em quase todas as categorias**, indicando baixa demanda.\n",
        "\n",
        "### 3. Média de Avaliação das Lojas\n",
        "\n",
        "As avaliações médias das lojas mostram:\n",
        "\n",
        "- Loja 2 e Loja 3 possuem boas avaliações (acima de 4.0).\n",
        "- **Loja 4 apresenta a menor média de avaliação**, indicando menor satisfação dos clientes.\n",
        "\n",
        "### 4. Produtos Mais e Menos Vendidos\n",
        "\n",
        "- As lojas 1, 2 e 3 têm produtos com vendas mais consistentes.\n",
        "- A Loja 4 tem **poucos produtos** com bom desempenho.\n",
        "\n",
        "---\n",
        "\n",
        "## Conclusão: Qual Loja Deve Ser Vendida?\n",
        "\n",
        "Após a análise dos dados, é recomendado que a **Loja 4 seja vendida**.\n",
        "\n",
        "### Justificativas:\n",
        "- Menor faturamento total.\n",
        "- Pior desempenho nas categorias de produtos.\n",
        "- Média de avaliação inferior.\n",
        "- Produtos com baixa rotatividade.\n",
        "\n",
        "A manutenção da Loja 4 pode estar gerando custos desnecessários e prejudicando a imagem da marca, além de não apresentar bom retorno financeiro.\n",
        "\n",
        "## Recomendações Finais\n",
        "\n",
        "1. Considerar o fechamento ou venda da Loja 4.\n",
        "2. Realocar investimentos para as lojas com melhor desempenho.\n",
        "3. Investir em logística e promoções nas lojas restantes para ampliar a margem de lucro."
      ],
      "metadata": {
        "id": "602q-F6ArPV9"
      }
    }
  ]
}